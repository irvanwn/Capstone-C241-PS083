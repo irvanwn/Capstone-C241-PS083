{
  "nbformat": 4,
  "nbformat_minor": 0,
  "metadata": {
    "colab": {
      "provenance": [],
      "gpuType": "T4",
      "collapsed_sections": [
        "aGZqqeFr4uAL"
      ]
    },
    "kernelspec": {
      "name": "python3",
      "display_name": "Python 3"
    },
    "language_info": {
      "name": "python"
    },
    "accelerator": "GPU"
  },
  "cells": [
    {
      "cell_type": "markdown",
      "source": [
        "# Capstone Project (Machine Learning)\n",
        "### This colab is used for SKIN TYPE classification development:\n",
        "1. Importing all the libraries needed\n",
        "2. Dataset importing (from github)\n",
        "3. Setting up the dataset and only taking the\n",
        "4. Loading dataset into Tensorflow"
      ],
      "metadata": {
        "id": "Zr-W3GqVxrfv"
      }
    },
    {
      "cell_type": "markdown",
      "source": [
        "## import libraries + dataset"
      ],
      "metadata": {
        "id": "wKZ_tNZn5ZW7"
      }
    },
    {
      "cell_type": "code",
      "source": [
        "# Mount Google Drive\n",
        "from google.colab import drive\n",
        "drive.mount('/content/drive')\n",
        "\n",
        "# Copy file from Colab environment to Google Drive\n",
        "import shutil\n",
        "\n",
        "# Path of the file in Colab environment\n",
        "file_path = '/tmp/skin_type_model.h5'\n",
        "\n",
        "# Destination path in Google Drive\n",
        "destination_path = '/content/drive/MyDrive/skin_type_model2222.h5'\n",
        "\n",
        "# Copy the file\n",
        "shutil.copy(file_path, destination_path)"
      ],
      "metadata": {
        "colab": {
          "base_uri": "https://localhost:8080/",
          "height": 55
        },
        "id": "EdEnB_QbZYL3",
        "outputId": "e9f04c84-32d0-4018-b242-fa119b9d4ff5"
      },
      "execution_count": 40,
      "outputs": [
        {
          "output_type": "stream",
          "name": "stdout",
          "text": [
            "Mounted at /content/drive\n"
          ]
        },
        {
          "output_type": "execute_result",
          "data": {
            "text/plain": [
              "'/content/drive/MyDrive/skin_type_model2222.h5'"
            ],
            "application/vnd.google.colaboratory.intrinsic+json": {
              "type": "string"
            }
          },
          "metadata": {},
          "execution_count": 40
        }
      ]
    },
    {
      "cell_type": "code",
      "source": [
        "!pip install imgaug"
      ],
      "metadata": {
        "colab": {
          "base_uri": "https://localhost:8080/"
        },
        "id": "xKOU4LJ8bTU7",
        "outputId": "33771369-8b86-45b9-fa74-738105c4a60a"
      },
      "execution_count": 2,
      "outputs": [
        {
          "output_type": "stream",
          "name": "stdout",
          "text": [
            "Requirement already satisfied: imgaug in /usr/local/lib/python3.10/dist-packages (0.4.0)\n",
            "Requirement already satisfied: six in /usr/local/lib/python3.10/dist-packages (from imgaug) (1.16.0)\n",
            "Requirement already satisfied: numpy>=1.15 in /usr/local/lib/python3.10/dist-packages (from imgaug) (1.25.2)\n",
            "Requirement already satisfied: scipy in /usr/local/lib/python3.10/dist-packages (from imgaug) (1.11.4)\n",
            "Requirement already satisfied: Pillow in /usr/local/lib/python3.10/dist-packages (from imgaug) (9.4.0)\n",
            "Requirement already satisfied: matplotlib in /usr/local/lib/python3.10/dist-packages (from imgaug) (3.7.1)\n",
            "Requirement already satisfied: scikit-image>=0.14.2 in /usr/local/lib/python3.10/dist-packages (from imgaug) (0.19.3)\n",
            "Requirement already satisfied: opencv-python in /usr/local/lib/python3.10/dist-packages (from imgaug) (4.8.0.76)\n",
            "Requirement already satisfied: imageio in /usr/local/lib/python3.10/dist-packages (from imgaug) (2.31.6)\n",
            "Requirement already satisfied: Shapely in /usr/local/lib/python3.10/dist-packages (from imgaug) (2.0.4)\n",
            "Requirement already satisfied: networkx>=2.2 in /usr/local/lib/python3.10/dist-packages (from scikit-image>=0.14.2->imgaug) (3.3)\n",
            "Requirement already satisfied: tifffile>=2019.7.26 in /usr/local/lib/python3.10/dist-packages (from scikit-image>=0.14.2->imgaug) (2024.5.22)\n",
            "Requirement already satisfied: PyWavelets>=1.1.1 in /usr/local/lib/python3.10/dist-packages (from scikit-image>=0.14.2->imgaug) (1.6.0)\n",
            "Requirement already satisfied: packaging>=20.0 in /usr/local/lib/python3.10/dist-packages (from scikit-image>=0.14.2->imgaug) (24.0)\n",
            "Requirement already satisfied: contourpy>=1.0.1 in /usr/local/lib/python3.10/dist-packages (from matplotlib->imgaug) (1.2.1)\n",
            "Requirement already satisfied: cycler>=0.10 in /usr/local/lib/python3.10/dist-packages (from matplotlib->imgaug) (0.12.1)\n",
            "Requirement already satisfied: fonttools>=4.22.0 in /usr/local/lib/python3.10/dist-packages (from matplotlib->imgaug) (4.53.0)\n",
            "Requirement already satisfied: kiwisolver>=1.0.1 in /usr/local/lib/python3.10/dist-packages (from matplotlib->imgaug) (1.4.5)\n",
            "Requirement already satisfied: pyparsing>=2.3.1 in /usr/local/lib/python3.10/dist-packages (from matplotlib->imgaug) (3.1.2)\n",
            "Requirement already satisfied: python-dateutil>=2.7 in /usr/local/lib/python3.10/dist-packages (from matplotlib->imgaug) (2.8.2)\n"
          ]
        }
      ]
    },
    {
      "cell_type": "code",
      "execution_count": 3,
      "metadata": {
        "id": "UVH4Wxsrwlod"
      },
      "outputs": [],
      "source": [
        "# Libraries for data manipulation\n",
        "import pandas as pd\n",
        "import numpy as np\n",
        "import matplotlib.pyplot as plt\n",
        "import cv2\n",
        "from PIL import Image\n",
        "import shutil\n",
        "import urllib.request\n",
        "import imgaug.augmenters as iaa\n",
        "\n",
        "# Libraries for deep learning\n",
        "import tensorflow as tf\n",
        "from tensorflow.keras import backend as K\n",
        "from tensorflow.keras.applications import MobileNetV3Large\n",
        "from tensorflow.keras.applications.mobilenet_v3 import preprocess_input\n",
        "from tensorflow.keras.applications.inception_v3 import InceptionV3\n",
        "from tensorflow.keras.applications.inception_v3 import preprocess_input as preprocess_input2\n",
        "from tensorflow.keras.applications import MobileNetV2\n",
        "from tensorflow.keras.preprocessing.image import ImageDataGenerator\n",
        "from tensorflow.keras.regularizers import l1\n",
        "from tensorflow.keras.regularizers import l2\n",
        "\n",
        "# Libraries for interacting with folder and files\n",
        "import os\n",
        "\n",
        "# For augmenting the images and bounding boxes\n",
        "import imgaug as ia\n",
        "import imgaug.augmenters as iaa\n",
        "from imgaug.augmentables.bbs import BoundingBox, BoundingBoxesOnImage\n",
        "\n",
        "# Set-up augmentation parameters\n",
        "from imgaug import augmenters as iaa\n",
        "\n",
        "# Extra libraries needed\n",
        "from sklearn.preprocessing import LabelEncoder\n",
        "from sklearn.model_selection import train_test_split\n",
        "\n",
        "# Libraries used for model evaluation\n",
        "from sklearn.metrics import classification_report, confusion_matrix, precision_recall_curve, average_precision_score\n",
        "import seaborn as sns"
      ]
    },
    {
      "cell_type": "code",
      "source": [
        "!git clone https://github.com/AxellSiagian/Capstone-Project.git /tmp/temp_repo\n",
        "\n",
        "!mv /tmp/temp_repo/* /tmp\n",
        "!mv /tmp/temp_repo/.[^.]* /tmp\n",
        "!rm -rf /tmp/temp_repo"
      ],
      "metadata": {
        "colab": {
          "base_uri": "https://localhost:8080/"
        },
        "id": "tdIpOacRxoib",
        "outputId": "3bedbb69-4f0f-4056-a956-4f0837cc8c02"
      },
      "execution_count": 4,
      "outputs": [
        {
          "output_type": "stream",
          "name": "stdout",
          "text": [
            "Cloning into '/tmp/temp_repo'...\n",
            "remote: Enumerating objects: 15413, done.\u001b[K\n",
            "remote: Counting objects: 100% (2909/2909), done.\u001b[K\n",
            "remote: Compressing objects: 100% (2893/2893), done.\u001b[K\n",
            "remote: Total 15413 (delta 18), reused 2904 (delta 16), pack-reused 12504\u001b[K\n",
            "Receiving objects: 100% (15413/15413), 621.90 MiB | 23.53 MiB/s, done.\n",
            "Resolving deltas: 100% (44/44), done.\n",
            "Updating files: 100% (14175/14175), done.\n"
          ]
        }
      ]
    },
    {
      "cell_type": "code",
      "source": [
        "# Clear the TensorFlow session and free up any resources associated with it\n",
        "K.clear_session()"
      ],
      "metadata": {
        "id": "m5Vfwj_bgapm"
      },
      "execution_count": 5,
      "outputs": []
    },
    {
      "cell_type": "markdown",
      "source": [
        "## loading the data"
      ],
      "metadata": {
        "id": "CWy46pjJ5Wrt"
      }
    },
    {
      "cell_type": "code",
      "source": [
        "# Define paths\n",
        "original_data_dir = '/tmp/dataset22'\n",
        "converted_data_dir = '/tmp/dataset_converted'\n",
        "classes = os.listdir(original_data_dir)\n",
        "\n",
        "# Create directory for converted data\n",
        "os.makedirs(converted_data_dir, exist_ok=True)\n",
        "\n",
        "# Convert images to JPG\n",
        "for cls in classes:\n",
        "    cls_path = os.path.join(original_data_dir, cls)\n",
        "    new_cls_path = os.path.join(converted_data_dir, cls)\n",
        "    os.makedirs(new_cls_path, exist_ok=True)\n",
        "\n",
        "    for img_name in os.listdir(cls_path):\n",
        "        img_path = os.path.join(cls_path, img_name)\n",
        "        new_img_name = os.path.splitext(img_name)[0] + '.jpg'\n",
        "        new_img_path = os.path.join(new_cls_path, new_img_name)\n",
        "\n",
        "        try:\n",
        "            with Image.open(img_path) as img:\n",
        "                img = img.convert('RGB')\n",
        "                img.save(new_img_path, 'JPEG')\n",
        "        except Exception as e:\n",
        "            print(f\"Error converting {img_path}: {e}\")"
      ],
      "metadata": {
        "id": "V6P1XQYcC_Vw"
      },
      "execution_count": 6,
      "outputs": []
    },
    {
      "cell_type": "code",
      "source": [
        "# Define ratios\n",
        "train_ratio = 0.6\n",
        "val_ratio = 0.3\n",
        "test_ratio = 0.1\n",
        "\n",
        "# Create directories for split data\n",
        "for split in ['train', 'valid', 'test']:\n",
        "    for cls in classes:\n",
        "        os.makedirs(os.path.join(converted_data_dir, split, cls), exist_ok=True)\n",
        "\n",
        "# Split the data\n",
        "for cls in classes:\n",
        "    cls_path = os.path.join(converted_data_dir, cls)\n",
        "    images = os.listdir(cls_path)\n",
        "\n",
        "    train_images, temp_images = train_test_split(images, test_size=(1 - train_ratio))\n",
        "    val_images, test_images = train_test_split(temp_images, test_size=test_ratio/(test_ratio + val_ratio))\n",
        "\n",
        "    # Move images to respective directories\n",
        "    for img in train_images:\n",
        "        shutil.move(os.path.join(cls_path, img), os.path.join(converted_data_dir, 'train', cls, img))\n",
        "\n",
        "    for img in val_images:\n",
        "        shutil.move(os.path.join(cls_path, img), os.path.join(converted_data_dir, 'valid', cls, img))\n",
        "\n",
        "    for img in test_images:\n",
        "        shutil.move(os.path.join(cls_path, img), os.path.join(converted_data_dir, 'test', cls, img))"
      ],
      "metadata": {
        "id": "MmXHNNy6DK_2"
      },
      "execution_count": 7,
      "outputs": []
    },
    {
      "cell_type": "code",
      "source": [
        "# Augment training images using imgaug\n",
        "augmenter = iaa.Sequential([\n",
        "    iaa.Fliplr(0.5),\n",
        "    iaa.Flipud(0.5),\n",
        "    iaa.Affine(rotate=(-10, 10)),\n",
        "    iaa.Affine(shear=(-16, 16)),\n",
        "    iaa.Affine(scale=(0.8, 1.2)),\n",
        "    iaa.AdditiveGaussianNoise(scale=(10, 60)),\n",
        "    iaa.Multiply((0.5, 1.5)),\n",
        "    iaa.GammaContrast((0.5, 2.0))\n",
        "])\n",
        "\n",
        "train_path = os.path.join(converted_data_dir, 'train')\n",
        "for cls in classes:\n",
        "    cls_train_path = os.path.join(train_path, cls)\n",
        "    for img_name in os.listdir(cls_train_path):\n",
        "        img_path = os.path.join(cls_train_path, img_name)\n",
        "        img = Image.open(img_path)\n",
        "        img_np = np.array(img)\n",
        "\n",
        "        for i in range(12):  # Generate 5 augmented versions per image\n",
        "            augmented_img_np = augmenter(image=img_np)\n",
        "            augmented_img = Image.fromarray(augmented_img_np)\n",
        "            augmented_img.save(os.path.join(cls_train_path, f'aug_{i}_{img_name}'))"
      ],
      "metadata": {
        "id": "8NpmnAR6boFj"
      },
      "execution_count": 8,
      "outputs": []
    },
    {
      "cell_type": "code",
      "source": [
        "# Define the path to the folder containing the skin types dataset split into train, test, and valid folders\n",
        "folder_path = '/tmp/dataset_converted'\n",
        "\n",
        "# Define the list of skin type names\n",
        "skin_types = ['dry', 'normal', 'oily']\n",
        "\n",
        "# Initialize lists to store file paths and corresponding labels\n",
        "X_train, X_test, X_val = [], [], []\n",
        "y_train, y_test, y_val = [], [], []\n",
        "\n",
        "# Iterate over each skin type\n",
        "for skin_type in skin_types:\n",
        "    # Define the path to the folder containing images of the current skin type for train, test, and valid sets\n",
        "    train_path = os.path.join(folder_path, 'train', skin_type)\n",
        "    test_path = os.path.join(folder_path, 'test', skin_type)\n",
        "    val_path = os.path.join(folder_path, 'valid', skin_type)\n",
        "\n",
        "    # Append file paths and labels to the respective lists\n",
        "    for path, X_list, y_list in [(train_path, X_train, y_train), (test_path, X_test, y_test), (val_path, X_val, y_val)]:\n",
        "        for img_file in os.listdir(path):\n",
        "            X_list.append(os.path.join(path, img_file))\n",
        "            y_list.append(skin_type)"
      ],
      "metadata": {
        "id": "Bi1V-ixnyc2K"
      },
      "execution_count": 9,
      "outputs": []
    },
    {
      "cell_type": "code",
      "source": [
        "# Initialize dictionaries to store counts of file paths\n",
        "counts = {'train': {skin_type: 0 for skin_type in skin_types},\n",
        "          'test': {skin_type: 0 for skin_type in skin_types},\n",
        "          'valid': {skin_type: 0 for skin_type in skin_types}}\n",
        "\n",
        "# Iterate over each skin type\n",
        "for skin_type in skin_types:\n",
        "    # Define the path to the folder containing images of the current skin type for train, test, and valid sets\n",
        "    train_path = os.path.join(folder_path, 'train', skin_type)\n",
        "    test_path = os.path.join(folder_path, 'test', skin_type)\n",
        "    val_path = os.path.join(folder_path, 'valid', skin_type)\n",
        "\n",
        "    # Count file paths and store in counts dictionary\n",
        "    counts['train'][skin_type] = len(os.listdir(train_path))\n",
        "    counts['test'][skin_type] = len(os.listdir(test_path))\n",
        "    counts['valid'][skin_type] = len(os.listdir(val_path))\n",
        "\n",
        "# Create a DataFrame for displaying counts\n",
        "df_counts = pd.DataFrame(counts).T\n",
        "\n",
        "# Plot the bar graph\n",
        "df_counts.plot(kind='bar', figsize=(10, 6))\n",
        "plt.title('Number of Photos for Each Skin Type in Train, Test, and Valid Sets')\n",
        "plt.xlabel('Dataset Split')\n",
        "plt.ylabel('Number of Photos')\n",
        "plt.xticks(rotation=0)  # Rotate x-axis labels if needed\n",
        "plt.legend(title='Skin Type')\n",
        "plt.show()"
      ],
      "metadata": {
        "colab": {
          "base_uri": "https://localhost:8080/",
          "height": 564
        },
        "id": "DCLxQ1lfyesS",
        "outputId": "031550fc-383f-4698-86f8-e2ef5a09613a"
      },
      "execution_count": 10,
      "outputs": [
        {
          "output_type": "display_data",
          "data": {
            "text/plain": [
              "<Figure size 1000x600 with 1 Axes>"
            ],
            "image/png": "[encoded data removed]"
          },
          "metadata": {}
        }
      ]
    },
    {
      "cell_type": "markdown",
      "source": [
        "### Encoding label (One-Hot Encoded)"
      ],
      "metadata": {
        "id": "v1WSY1EB8UI5"
      }
    },
    {
      "cell_type": "code",
      "source": [
        "# Encode the labels as integers\n",
        "label_encoder = LabelEncoder()\n",
        "y_train = label_encoder.fit_transform(y_train)\n",
        "y_test = label_encoder.transform(y_test)\n",
        "y_val = label_encoder.transform(y_val)"
      ],
      "metadata": {
        "id": "Fg_5d_bq8T4p"
      },
      "execution_count": 11,
      "outputs": []
    },
    {
      "cell_type": "markdown",
      "source": [
        "## Prepare data"
      ],
      "metadata": {
        "id": "g1eNt9oL8-dz"
      }
    },
    {
      "cell_type": "code",
      "source": [
        "# Data generators with augmentation for training set\n",
        "train_datagen = ImageDataGenerator(\n",
        "    # preprocessing_function=preprocess_input,\n",
        "    rotation_range=20,  # Increased rotation range\n",
        "    width_shift_range=0.4,  # Increased width shift range\n",
        "    height_shift_range=0.4,  # Increased height shift range\n",
        "    shear_range=0.4,  # Increased shear range\n",
        "    zoom_range=0.4,  # Increased zoom range\n",
        "    horizontal_flip=True,\n",
        "    fill_mode='nearest',\n",
        "    brightness_range=[0.5, 1.5],  # Brightness adjustment\n",
        "    channel_shift_range=50,  # Channel shift\n",
        ")\n",
        "\n",
        "val_datagen = ImageDataGenerator(preprocessing_function=preprocess_input)\n",
        "test_datagen = ImageDataGenerator(preprocessing_function=preprocess_input)\n",
        "\n",
        "# Data generator flows\n",
        "train_generator = train_datagen.flow_from_directory(\n",
        "    os.path.join(folder_path, 'train'),\n",
        "    target_size=(224, 224),\n",
        "    batch_size=16,\n",
        "    class_mode='categorical'\n",
        ")\n",
        "\n",
        "val_generator = val_datagen.flow_from_directory(\n",
        "    os.path.join(folder_path, 'valid'),\n",
        "    target_size=(224, 224),\n",
        "    batch_size=16,\n",
        "    class_mode='categorical'\n",
        ")\n",
        "\n",
        "test_generator = test_datagen.flow_from_directory(\n",
        "    os.path.join(folder_path, 'test'),\n",
        "    target_size=(224, 224),\n",
        "    batch_size=16,\n",
        "    class_mode='categorical'\n",
        ")"
      ],
      "metadata": {
        "id": "nzrBEsRS9Cmx",
        "colab": {
          "base_uri": "https://localhost:8080/"
        },
        "outputId": "d5b9b1a8-c1f6-4ff8-a45d-b1da94a6db1d"
      },
      "execution_count": 12,
      "outputs": [
        {
          "output_type": "stream",
          "name": "stdout",
          "text": [
            "Found 1209 images belonging to 3 classes.\n",
            "Found 48 images belonging to 3 classes.\n",
            "Found 18 images belonging to 3 classes.\n"
          ]
        }
      ]
    },
    {
      "cell_type": "markdown",
      "source": [
        "## Image Augmentation\n"
      ],
      "metadata": {
        "id": "o4mVzVbiedAR"
      }
    },
    {
      "cell_type": "code",
      "source": [
        "# Define some hyperparameters\n",
        "batch_size = 16\n",
        "epochs = 50"
      ],
      "metadata": {
        "id": "5k7-fBAgefyo"
      },
      "execution_count": 26,
      "outputs": []
    },
    {
      "cell_type": "code",
      "source": [
        "# Model architecture with increased dropout rates\n",
        "base_model = MobileNetV3Large(weights='imagenet', input_shape=(224, 224, 3), include_top=False)\n",
        "\n",
        "# weights_url = \"https://storage.googleapis.com/mledu-datasets/inception_v3_weights_tf_dim_ordering_tf_kernels_notop.h5\"\n",
        "# weights_file = \"inception_v3.h5\"\n",
        "# urllib.request.urlretrieve(weights_url, weights_file)\n",
        "# base_model.load_weights(weights_file)\n",
        "\n",
        "base_model.trainable = True\n",
        "for layer in base_model.layers[:-5]:\n",
        "    layer.trainable = False\n",
        "\n",
        "model = tf.keras.Sequential([\n",
        "    base_model,\n",
        "    tf.keras.layers.GlobalAveragePooling2D(),\n",
        "    tf.keras.layers.Dropout(0.4),\n",
        "\n",
        "    tf.keras.layers.Dense(256, activation='relu'),\n",
        "    tf.keras.layers.Dropout(0.4),\n",
        "\n",
        "    tf.keras.layers.Dense(128, activation='relu'),\n",
        "    tf.keras.layers.Dropout(0.2),\n",
        "\n",
        "    tf.keras.layers.Dense(32, kernel_regularizer = tf.keras.regularizers.L1L2(l1=0.0001, l2=0.0001), activation='relu'),\n",
        "    tf.keras.layers.Dropout(0.1),\n",
        "\n",
        "    tf.keras.layers.Dense(len(skin_types), activation='softmax')\n",
        "])\n",
        "\n",
        "# Compile the model\n",
        "model.compile(\n",
        "    optimizer=tf.keras.optimizers.Adam(learning_rate=0.0015),\n",
        "    loss='categorical_crossentropy',\n",
        "    metrics=['accuracy']\n",
        ")\n",
        "\n",
        "# # Callbacks with more aggressive learning rate reduction\n",
        "# early_stopping = tf.keras.callbacks.EarlyStopping(monitor='val_loss', patience=10, restore_best_weights=True)\n",
        "# reduce_lr = tf.keras.callbacks.ReduceLROnPlateau(monitor='val_loss', factor=0.3, patience=3, min_lr=0.00001)"
      ],
      "metadata": {
        "id": "JUPk0hYoehSW"
      },
      "execution_count": 27,
      "outputs": []
    },
    {
      "cell_type": "markdown",
      "source": [
        "## Model Training"
      ],
      "metadata": {
        "id": "2d0Wg4KyghvC"
      }
    },
    {
      "cell_type": "code",
      "source": [
        "num_output = len(skin_types)\n",
        "print(num_output)"
      ],
      "metadata": {
        "colab": {
          "base_uri": "https://localhost:8080/"
        },
        "id": "M3IgwykCgkn9",
        "outputId": "4991337d-2bc4-4d43-c4d2-7423114daa48"
      },
      "execution_count": 28,
      "outputs": [
        {
          "output_type": "stream",
          "name": "stdout",
          "text": [
            "3\n"
          ]
        }
      ]
    },
    {
      "cell_type": "code",
      "source": [
        "# Train the model\n",
        "history = model.fit(\n",
        "    train_generator,\n",
        "    validation_data = val_generator,\n",
        "    epochs = epochs\n",
        ")"
      ],
      "metadata": {
        "colab": {
          "base_uri": "https://localhost:8080/"
        },
        "id": "kuji_-GYkMsC",
        "outputId": "9b98481c-53ab-4bf3-eaf0-209ec1f10df4"
      },
      "execution_count": 29,
      "outputs": [
        {
          "output_type": "stream",
          "name": "stdout",
          "text": [
            "Epoch 1/50\n",
            "76/76 [==============================] - 32s 356ms/step - loss: 1.3045 - accuracy: 0.3664 - val_loss: 1.1183 - val_accuracy: 0.4583\n",
            "Epoch 2/50\n",
            "76/76 [==============================] - 25s 335ms/step - loss: 1.1370 - accuracy: 0.3854 - val_loss: 1.0993 - val_accuracy: 0.5417\n",
            "Epoch 3/50\n",
            "76/76 [==============================] - 26s 340ms/step - loss: 1.1096 - accuracy: 0.4351 - val_loss: 1.0874 - val_accuracy: 0.4792\n",
            "Epoch 4/50\n",
            "76/76 [==============================] - 26s 342ms/step - loss: 1.0717 - accuracy: 0.4814 - val_loss: 1.0313 - val_accuracy: 0.5417\n",
            "Epoch 5/50\n",
            "76/76 [==============================] - 31s 414ms/step - loss: 1.0504 - accuracy: 0.5070 - val_loss: 1.0397 - val_accuracy: 0.5208\n",
            "Epoch 6/50\n",
            "76/76 [==============================] - 25s 335ms/step - loss: 1.0423 - accuracy: 0.4872 - val_loss: 1.0352 - val_accuracy: 0.5417\n",
            "Epoch 7/50\n",
            "76/76 [==============================] - 27s 356ms/step - loss: 1.0186 - accuracy: 0.4855 - val_loss: 0.9905 - val_accuracy: 0.6250\n",
            "Epoch 8/50\n",
            "76/76 [==============================] - 25s 334ms/step - loss: 1.0179 - accuracy: 0.5103 - val_loss: 0.9483 - val_accuracy: 0.5625\n",
            "Epoch 9/50\n",
            "76/76 [==============================] - 27s 354ms/step - loss: 0.9878 - accuracy: 0.5335 - val_loss: 0.9503 - val_accuracy: 0.6458\n",
            "Epoch 10/50\n",
            "76/76 [==============================] - 24s 316ms/step - loss: 0.9809 - accuracy: 0.5385 - val_loss: 0.9884 - val_accuracy: 0.5417\n",
            "Epoch 11/50\n",
            "76/76 [==============================] - 27s 348ms/step - loss: 0.9624 - accuracy: 0.5542 - val_loss: 0.9458 - val_accuracy: 0.6458\n",
            "Epoch 12/50\n",
            "76/76 [==============================] - 26s 339ms/step - loss: 0.9628 - accuracy: 0.5542 - val_loss: 0.9427 - val_accuracy: 0.6250\n",
            "Epoch 13/50\n",
            "76/76 [==============================] - 25s 333ms/step - loss: 0.9332 - accuracy: 0.5724 - val_loss: 0.9358 - val_accuracy: 0.6042\n",
            "Epoch 14/50\n",
            "76/76 [==============================] - 27s 359ms/step - loss: 0.9136 - accuracy: 0.5848 - val_loss: 0.8550 - val_accuracy: 0.6458\n",
            "Epoch 15/50\n",
            "76/76 [==============================] - 25s 329ms/step - loss: 0.9004 - accuracy: 0.5997 - val_loss: 0.8346 - val_accuracy: 0.6042\n",
            "Epoch 16/50\n",
            "76/76 [==============================] - 25s 328ms/step - loss: 0.9138 - accuracy: 0.5848 - val_loss: 0.9264 - val_accuracy: 0.5833\n",
            "Epoch 17/50\n",
            "76/76 [==============================] - 26s 344ms/step - loss: 0.9168 - accuracy: 0.5790 - val_loss: 0.9215 - val_accuracy: 0.5625\n",
            "Epoch 18/50\n",
            "76/76 [==============================] - 24s 323ms/step - loss: 0.9174 - accuracy: 0.5980 - val_loss: 0.8576 - val_accuracy: 0.6458\n",
            "Epoch 19/50\n",
            "76/76 [==============================] - 25s 325ms/step - loss: 0.8937 - accuracy: 0.5939 - val_loss: 0.8331 - val_accuracy: 0.7083\n",
            "Epoch 20/50\n",
            "76/76 [==============================] - 32s 423ms/step - loss: 0.8827 - accuracy: 0.6096 - val_loss: 0.7933 - val_accuracy: 0.6875\n",
            "Epoch 21/50\n",
            "76/76 [==============================] - 25s 324ms/step - loss: 0.9001 - accuracy: 0.5914 - val_loss: 0.7992 - val_accuracy: 0.6042\n",
            "Epoch 22/50\n",
            "76/76 [==============================] - 25s 331ms/step - loss: 0.8792 - accuracy: 0.6146 - val_loss: 0.8302 - val_accuracy: 0.6042\n",
            "Epoch 23/50\n",
            "76/76 [==============================] - 26s 339ms/step - loss: 0.8956 - accuracy: 0.5873 - val_loss: 0.8239 - val_accuracy: 0.6042\n",
            "Epoch 24/50\n",
            "76/76 [==============================] - 26s 338ms/step - loss: 0.8450 - accuracy: 0.6352 - val_loss: 0.7861 - val_accuracy: 0.6667\n",
            "Epoch 25/50\n",
            "76/76 [==============================] - 25s 334ms/step - loss: 0.8514 - accuracy: 0.6104 - val_loss: 0.7507 - val_accuracy: 0.7083\n",
            "Epoch 26/50\n",
            "76/76 [==============================] - 25s 335ms/step - loss: 0.8622 - accuracy: 0.6303 - val_loss: 0.8147 - val_accuracy: 0.6458\n",
            "Epoch 27/50\n",
            "76/76 [==============================] - 25s 334ms/step - loss: 0.8453 - accuracy: 0.6303 - val_loss: 0.8752 - val_accuracy: 0.6458\n",
            "Epoch 28/50\n",
            "76/76 [==============================] - 26s 336ms/step - loss: 0.8307 - accuracy: 0.6443 - val_loss: 0.8231 - val_accuracy: 0.5833\n",
            "Epoch 29/50\n",
            "76/76 [==============================] - 25s 323ms/step - loss: 0.8292 - accuracy: 0.6319 - val_loss: 0.8191 - val_accuracy: 0.5625\n",
            "Epoch 30/50\n",
            "76/76 [==============================] - 24s 317ms/step - loss: 0.8463 - accuracy: 0.6154 - val_loss: 0.8144 - val_accuracy: 0.6875\n",
            "Epoch 31/50\n",
            "76/76 [==============================] - 25s 331ms/step - loss: 0.8208 - accuracy: 0.6319 - val_loss: 0.7805 - val_accuracy: 0.6250\n",
            "Epoch 32/50\n",
            "76/76 [==============================] - 25s 333ms/step - loss: 0.7985 - accuracy: 0.6592 - val_loss: 0.8609 - val_accuracy: 0.6042\n",
            "Epoch 33/50\n",
            "76/76 [==============================] - 25s 333ms/step - loss: 0.8126 - accuracy: 0.6510 - val_loss: 0.8062 - val_accuracy: 0.6250\n",
            "Epoch 34/50\n",
            "76/76 [==============================] - 27s 355ms/step - loss: 0.8574 - accuracy: 0.6245 - val_loss: 0.8295 - val_accuracy: 0.6250\n",
            "Epoch 35/50\n",
            "76/76 [==============================] - 25s 329ms/step - loss: 0.7997 - accuracy: 0.6394 - val_loss: 0.8096 - val_accuracy: 0.6458\n",
            "Epoch 36/50\n",
            "76/76 [==============================] - 25s 334ms/step - loss: 0.8242 - accuracy: 0.6526 - val_loss: 0.7698 - val_accuracy: 0.6875\n",
            "Epoch 37/50\n",
            "76/76 [==============================] - 25s 332ms/step - loss: 0.7828 - accuracy: 0.6650 - val_loss: 0.7618 - val_accuracy: 0.6458\n",
            "Epoch 38/50\n",
            "76/76 [==============================] - 24s 313ms/step - loss: 0.7905 - accuracy: 0.6658 - val_loss: 0.7396 - val_accuracy: 0.6667\n",
            "Epoch 39/50\n",
            "76/76 [==============================] - 25s 333ms/step - loss: 0.7968 - accuracy: 0.6567 - val_loss: 0.8115 - val_accuracy: 0.6458\n",
            "Epoch 40/50\n",
            "76/76 [==============================] - 27s 358ms/step - loss: 0.7964 - accuracy: 0.6501 - val_loss: 0.7748 - val_accuracy: 0.6458\n",
            "Epoch 41/50\n",
            "76/76 [==============================] - 25s 334ms/step - loss: 0.7865 - accuracy: 0.6931 - val_loss: 0.8341 - val_accuracy: 0.6250\n",
            "Epoch 42/50\n",
            "76/76 [==============================] - 26s 338ms/step - loss: 0.7954 - accuracy: 0.6625 - val_loss: 0.7753 - val_accuracy: 0.6042\n",
            "Epoch 43/50\n",
            "76/76 [==============================] - 25s 335ms/step - loss: 0.7789 - accuracy: 0.6708 - val_loss: 0.7514 - val_accuracy: 0.6667\n",
            "Epoch 44/50\n",
            "76/76 [==============================] - 24s 317ms/step - loss: 0.7502 - accuracy: 0.6807 - val_loss: 0.7772 - val_accuracy: 0.7083\n",
            "Epoch 45/50\n",
            "76/76 [==============================] - 25s 324ms/step - loss: 0.7333 - accuracy: 0.6816 - val_loss: 0.8126 - val_accuracy: 0.6875\n",
            "Epoch 46/50\n",
            "76/76 [==============================] - 26s 336ms/step - loss: 0.7744 - accuracy: 0.6758 - val_loss: 0.8202 - val_accuracy: 0.6458\n",
            "Epoch 47/50\n",
            "76/76 [==============================] - 27s 352ms/step - loss: 0.7416 - accuracy: 0.6824 - val_loss: 0.7398 - val_accuracy: 0.6667\n",
            "Epoch 48/50\n",
            "76/76 [==============================] - 25s 332ms/step - loss: 0.7758 - accuracy: 0.6625 - val_loss: 0.7473 - val_accuracy: 0.6667\n",
            "Epoch 49/50\n",
            "76/76 [==============================] - 26s 337ms/step - loss: 0.7391 - accuracy: 0.6998 - val_loss: 0.7535 - val_accuracy: 0.7083\n",
            "Epoch 50/50\n",
            "76/76 [==============================] - 25s 331ms/step - loss: 0.7673 - accuracy: 0.6915 - val_loss: 0.7936 - val_accuracy: 0.6458\n"
          ]
        }
      ]
    },
    {
      "cell_type": "code",
      "source": [
        "# Evaluate the model\n",
        "test_loss, test_acc = model.evaluate(test_generator)\n",
        "print(f\"Test Accuracy: {test_acc}\")\n",
        "\n",
        "# Save the model\n",
        "model.save('/tmp/skin_type_model.h5')"
      ],
      "metadata": {
        "colab": {
          "base_uri": "https://localhost:8080/"
        },
        "id": "2itpUm_gkRSG",
        "outputId": "3b1aa1fe-e305-4557-a8cf-031a346c51b1"
      },
      "execution_count": 30,
      "outputs": [
        {
          "output_type": "stream",
          "name": "stdout",
          "text": [
            "2/2 [==============================] - 0s 16ms/step - loss: 1.1178 - accuracy: 0.5000\n",
            "Test Accuracy: 0.5\n"
          ]
        },
        {
          "output_type": "stream",
          "name": "stderr",
          "text": [
            "/usr/local/lib/python3.10/dist-packages/keras/src/engine/training.py:3103: UserWarning: You are saving your model as an HDF5 file via `model.save()`. This file format is considered legacy. We recommend using instead the native Keras format, e.g. `model.save('my_model.keras')`.\n",
            "  saving_api.save_model(\n"
          ]
        }
      ]
    },
    {
      "cell_type": "code",
      "source": [
        "# Plot the chart for accuracy and loss on both training and validation\n",
        "import matplotlib.pyplot as plt\n",
        "acc = history.history['accuracy']\n",
        "val_acc = history.history['val_accuracy']\n",
        "loss = history.history['loss']\n",
        "val_loss = history.history['val_loss']\n",
        "\n",
        "epochs = range(len(acc))\n",
        "\n",
        "plt.plot(epochs, acc, 'r', label='Training accuracy')\n",
        "plt.plot(epochs, val_acc, 'b', label='Validation accuracy')\n",
        "plt.title('Training and validation accuracy')\n",
        "plt.legend()\n",
        "plt.figure()\n",
        "\n",
        "plt.plot(epochs, loss, 'r', label='Training Loss')\n",
        "plt.plot(epochs, val_loss, 'b', label='Validation Loss')\n",
        "plt.title('Training and validation loss')\n",
        "plt.legend()"
      ],
      "metadata": {
        "id": "h_cRX6LWkWF9",
        "colab": {
          "base_uri": "https://localhost:8080/",
          "height": 906
        },
        "outputId": "48dd815c-9f5b-4035-b890-4786e5bbc121"
      },
      "execution_count": 31,
      "outputs": [
        {
          "output_type": "execute_result",
          "data": {
            "text/plain": [
              "<matplotlib.legend.Legend at 0x7ab5a5caa4a0>"
            ]
          },
          "metadata": {},
          "execution_count": 31
        },
        {
          "output_type": "display_data",
          "data": {
            "text/plain": [
              "<Figure size 640x480 with 1 Axes>"
            ],
            "image/png": "[encoded data removed]"
          },
          "metadata": {}
        },
        {
          "output_type": "display_data",
          "data": {
            "text/plain": [
              "<Figure size 640x480 with 1 Axes>"
            ],
            "image/png": "[encoded data removed]"
          },
          "metadata": {}
        }
      ]
    },
    {
      "cell_type": "markdown",
      "source": [
        "#Model Prediction Result on Test Set"
      ],
      "metadata": {
        "id": "lSkDjsdG30zL"
      }
    },
    {
      "cell_type": "code",
      "source": [
        "# Evaluate the model on the validation set\n",
        "val_loss, val_accuracy = model.evaluate(val_generator)\n",
        "print(f\"Validation Loss: {val_loss}\")\n",
        "print(f\"Validation Accuracy: {val_accuracy}\")\n",
        "\n",
        "# Evaluate the model on the test set\n",
        "test_loss, test_accuracy = model.evaluate(test_generator)\n",
        "print(f\"Test Loss: {test_loss}\")\n",
        "print(f\"Test Accuracy: {test_accuracy}\")\n",
        "\n",
        "# Generate predictions on the test set\n",
        "test_generator.reset()\n",
        "predictions = model.predict(test_generator)\n",
        "predicted_classes = np.argmax(predictions, axis=1)\n",
        "true_classes = test_generator.classes\n",
        "class_labels = list(test_generator.class_indices.keys())\n",
        "\n",
        "# Classification report\n",
        "report = classification_report(true_classes, predicted_classes, target_names=class_labels)\n",
        "print(\"Classification Report:\\n\", report)\n",
        "\n",
        "# Confusion matrix\n",
        "cm = confusion_matrix(true_classes, predicted_classes)\n",
        "plt.figure(figsize=(10, 8))\n",
        "sns.heatmap(cm, annot=True, fmt='d', cmap='Blues', xticklabels=class_labels, yticklabels=class_labels)\n",
        "plt.xlabel('Predicted')\n",
        "plt.ylabel('True')\n",
        "plt.title('Confusion Matrix')\n",
        "plt.show()\n",
        "\n",
        "# Precision-Recall curve\n",
        "precision = dict()\n",
        "recall = dict()\n",
        "average_precision = dict()\n",
        "for i in range(len(class_labels)):\n",
        "    precision[i], recall[i], _ = precision_recall_curve(true_classes == i, predictions[:, i])\n",
        "    average_precision[i] = average_precision_score(true_classes == i, predictions[:, i])\n",
        "\n",
        "# Plot Precision-Recall curve for each class\n",
        "plt.figure(figsize=(10, 8))\n",
        "for i in range(len(class_labels)):\n",
        "    plt.plot(recall[i], precision[i], lw=2, label=f'Class {class_labels[i]} (AP = {average_precision[i]:0.2f})')\n",
        "plt.xlabel('Recall')\n",
        "plt.ylabel('Precision')\n",
        "plt.title('Precision-Recall curve')\n",
        "plt.legend(loc=\"lower left\")\n",
        "plt.show()"
      ],
      "metadata": {
        "id": "oQyuvAsw2gq6",
        "colab": {
          "base_uri": "https://localhost:8080/",
          "height": 1000
        },
        "outputId": "1768e8f1-f329-4803-d668-9f194403474b"
      },
      "execution_count": 32,
      "outputs": [
        {
          "output_type": "stream",
          "name": "stdout",
          "text": [
            "3/3 [==============================] - 0s 83ms/step - loss: 0.7936 - accuracy: 0.6458\n",
            "Validation Loss: 0.7935662269592285\n",
            "Validation Accuracy: 0.6458333134651184\n",
            "2/2 [==============================] - 0s 17ms/step - loss: 1.1178 - accuracy: 0.5000\n",
            "Test Loss: 1.1177988052368164\n",
            "Test Accuracy: 0.5\n",
            "2/2 [==============================] - 1s 23ms/step\n",
            "Classification Report:\n",
            "               precision    recall  f1-score   support\n",
            "\n",
            "         dry       0.17      0.17      0.17         6\n",
            "      normal       1.00      0.33      0.50         6\n",
            "        oily       0.40      0.67      0.50         6\n",
            "\n",
            "    accuracy                           0.39        18\n",
            "   macro avg       0.52      0.39      0.39        18\n",
            "weighted avg       0.52      0.39      0.39        18\n",
            "\n"
          ]
        },
        {
          "output_type": "display_data",
          "data": {
            "text/plain": [
              "<Figure size 1000x800 with 2 Axes>"
            ],
            "image/png": "[encoded data removed]"
          },
          "metadata": {}
        },
        {
          "output_type": "display_data",
          "data": {
            "text/plain": [
              "<Figure size 1000x800 with 1 Axes>"
            ],
            "image/png": "[encoded data removed]"
          },
          "metadata": {}
        }
      ]
    },
    {
      "cell_type": "markdown",
      "source": [
        "no longer used:"
      ],
      "metadata": {
        "id": "DsOW5w7igDis"
      }
    },
    {
      "cell_type": "code",
      "source": [
        "# Get the highest probability indices for every test data\n",
        "highest_prob_indices = np.argmax(predictions, axis=1)\n",
        "\n",
        "# Inverse transform to get the label name\n",
        "prediction_labels = label_encoder.inverse_transform(highest_prob_indices)\n",
        "\n",
        "# Get the true labels of the test data\n",
        "true_labels = label_encoder.inverse_transform(y_test)"
      ],
      "metadata": {
        "id": "wO5v4_-24Crv"
      },
      "execution_count": 33,
      "outputs": []
    },
    {
      "cell_type": "code",
      "source": [
        "# Show the predicted labels and the corresponding true labels side by side in a dataframe\n",
        "df_test_results = pd.DataFrame({'True': true_labels, 'Model Prediction': prediction_labels})\n",
        "df_test_results"
      ],
      "metadata": {
        "id": "mLYhPMI04S1P",
        "colab": {
          "base_uri": "https://localhost:8080/",
          "height": 613
        },
        "outputId": "cb5213d2-8a3f-4691-cd05-aa5ceeee3a38"
      },
      "execution_count": 34,
      "outputs": [
        {
          "output_type": "execute_result",
          "data": {
            "text/plain": [
              "      True Model Prediction\n",
              "0      dry             oily\n",
              "1      dry             oily\n",
              "2      dry             oily\n",
              "3      dry              dry\n",
              "4      dry             oily\n",
              "5      dry             oily\n",
              "6   normal           normal\n",
              "7   normal           normal\n",
              "8   normal              dry\n",
              "9   normal             oily\n",
              "10  normal              dry\n",
              "11  normal              dry\n",
              "12    oily              dry\n",
              "13    oily             oily\n",
              "14    oily              dry\n",
              "15    oily             oily\n",
              "16    oily             oily\n",
              "17    oily             oily"
            ],
            "text/html": [
              "\n",
              "  <div id=\"df-b1cb44d2-959e-46cb-b11e-ff95f7f6c114\" class=\"colab-df-container\">\n",
              "    <div>\n",
              "<style scoped>\n",
              "    .dataframe tbody tr th:only-of-type {\n",
              "        vertical-align: middle;\n",
              "    }\n",
              "\n",
              "    .dataframe tbody tr th {\n",
              "        vertical-align: top;\n",
              "    }\n",
              "\n",
              "    .dataframe thead th {\n",
              "        text-align: right;\n",
              "    }\n",
              "</style>\n",
              "<table border=\"1\" class=\"dataframe\">\n",
              "  <thead>\n",
              "    <tr style=\"text-align: right;\">\n",
              "      <th></th>\n",
              "      <th>True</th>\n",
              "      <th>Model Prediction</th>\n",
              "    </tr>\n",
              "  </thead>\n",
              "  <tbody>\n",
              "    <tr>\n",
              "      <th>0</th>\n",
              "      <td>dry</td>\n",
              "      <td>oily</td>\n",
              "    </tr>\n",
              "    <tr>\n",
              "      <th>1</th>\n",
              "      <td>dry</td>\n",
              "      <td>oily</td>\n",
              "    </tr>\n",
              "    <tr>\n",
              "      <th>2</th>\n",
              "      <td>dry</td>\n",
              "      <td>oily</td>\n",
              "    </tr>\n",
              "    <tr>\n",
              "      <th>3</th>\n",
              "      <td>dry</td>\n",
              "      <td>dry</td>\n",
              "    </tr>\n",
              "    <tr>\n",
              "      <th>4</th>\n",
              "      <td>dry</td>\n",
              "      <td>oily</td>\n",
              "    </tr>\n",
              "    <tr>\n",
              "      <th>5</th>\n",
              "      <td>dry</td>\n",
              "      <td>oily</td>\n",
              "    </tr>\n",
              "    <tr>\n",
              "      <th>6</th>\n",
              "      <td>normal</td>\n",
              "      <td>normal</td>\n",
              "    </tr>\n",
              "    <tr>\n",
              "      <th>7</th>\n",
              "      <td>normal</td>\n",
              "      <td>normal</td>\n",
              "    </tr>\n",
              "    <tr>\n",
              "      <th>8</th>\n",
              "      <td>normal</td>\n",
              "      <td>dry</td>\n",
              "    </tr>\n",
              "    <tr>\n",
              "      <th>9</th>\n",
              "      <td>normal</td>\n",
              "      <td>oily</td>\n",
              "    </tr>\n",
              "    <tr>\n",
              "      <th>10</th>\n",
              "      <td>normal</td>\n",
              "      <td>dry</td>\n",
              "    </tr>\n",
              "    <tr>\n",
              "      <th>11</th>\n",
              "      <td>normal</td>\n",
              "      <td>dry</td>\n",
              "    </tr>\n",
              "    <tr>\n",
              "      <th>12</th>\n",
              "      <td>oily</td>\n",
              "      <td>dry</td>\n",
              "    </tr>\n",
              "    <tr>\n",
              "      <th>13</th>\n",
              "      <td>oily</td>\n",
              "      <td>oily</td>\n",
              "    </tr>\n",
              "    <tr>\n",
              "      <th>14</th>\n",
              "      <td>oily</td>\n",
              "      <td>dry</td>\n",
              "    </tr>\n",
              "    <tr>\n",
              "      <th>15</th>\n",
              "      <td>oily</td>\n",
              "      <td>oily</td>\n",
              "    </tr>\n",
              "    <tr>\n",
              "      <th>16</th>\n",
              "      <td>oily</td>\n",
              "      <td>oily</td>\n",
              "    </tr>\n",
              "    <tr>\n",
              "      <th>17</th>\n",
              "      <td>oily</td>\n",
              "      <td>oily</td>\n",
              "    </tr>\n",
              "  </tbody>\n",
              "</table>\n",
              "</div>\n",
              "    <div class=\"colab-df-buttons\">\n",
              "\n",
              "  <div class=\"colab-df-container\">\n",
              "    <button class=\"colab-df-convert\" onclick=\"convertToInteractive('df-b1cb44d2-959e-46cb-b11e-ff95f7f6c114')\"\n",
              "            title=\"Convert this dataframe to an interactive table.\"\n",
              "            style=\"display:none;\">\n",
              "\n",
              "  <svg xmlns=\"http://www.w3.org/2000/svg\" height=\"24px\" viewBox=\"0 -960 960 960\">\n",
              "    <path d=\"M120-120v-720h720v720H120Zm60-500h600v-160H180v160Zm220 220h160v-160H400v160Zm0 220h160v-160H400v160ZM180-400h160v-160H180v160Zm440 0h160v-160H620v160ZM180-180h160v-160H180v160Zm440 0h160v-160H620v160Z\"/>\n",
              "  </svg>\n",
              "    </button>\n",
              "\n",
              "  <style>\n",
              "    .colab-df-container {\n",
              "      display:flex;\n",
              "      gap: 12px;\n",
              "    }\n",
              "\n",
              "    .colab-df-convert {\n",
              "      background-color: #E8F0FE;\n",
              "      border: none;\n",
              "      border-radius: 50%;\n",
              "      cursor: pointer;\n",
              "      display: none;\n",
              "      fill: #1967D2;\n",
              "      height: 32px;\n",
              "      padding: 0 0 0 0;\n",
              "      width: 32px;\n",
              "    }\n",
              "\n",
              "    .colab-df-convert:hover {\n",
              "      background-color: #E2EBFA;\n",
              "      box-shadow: 0px 1px 2px rgba(60, 64, 67, 0.3), 0px 1px 3px 1px rgba(60, 64, 67, 0.15);\n",
              "      fill: #174EA6;\n",
              "    }\n",
              "\n",
              "    .colab-df-buttons div {\n",
              "      margin-bottom: 4px;\n",
              "    }\n",
              "\n",
              "    [theme=dark] .colab-df-convert {\n",
              "      background-color: #3B4455;\n",
              "      fill: #D2E3FC;\n",
              "    }\n",
              "\n",
              "    [theme=dark] .colab-df-convert:hover {\n",
              "      background-color: #434B5C;\n",
              "      box-shadow: 0px 1px 3px 1px rgba(0, 0, 0, 0.15);\n",
              "      filter: drop-shadow(0px 1px 2px rgba(0, 0, 0, 0.3));\n",
              "      fill: #FFFFFF;\n",
              "    }\n",
              "  </style>\n",
              "\n",
              "    <script>\n",
              "      const buttonEl =\n",
              "        document.querySelector('#df-b1cb44d2-959e-46cb-b11e-ff95f7f6c114 button.colab-df-convert');\n",
              "      buttonEl.style.display =\n",
              "        google.colab.kernel.accessAllowed ? 'block' : 'none';\n",
              "\n",
              "      async function convertToInteractive(key) {\n",
              "        const element = document.querySelector('#df-b1cb44d2-959e-46cb-b11e-ff95f7f6c114');\n",
              "        const dataTable =\n",
              "          await google.colab.kernel.invokeFunction('convertToInteractive',\n",
              "                                                    [key], {});\n",
              "        if (!dataTable) return;\n",
              "\n",
              "        const docLinkHtml = 'Like what you see? Visit the ' +\n",
              "          '<a target=\"_blank\" href=https://colab.research.google.com/notebooks/data_table.ipynb>data table notebook</a>'\n",
              "          + ' to learn more about interactive tables.';\n",
              "        element.innerHTML = '';\n",
              "        dataTable['output_type'] = 'display_data';\n",
              "        await google.colab.output.renderOutput(dataTable, element);\n",
              "        const docLink = document.createElement('div');\n",
              "        docLink.innerHTML = docLinkHtml;\n",
              "        element.appendChild(docLink);\n",
              "      }\n",
              "    </script>\n",
              "  </div>\n",
              "\n",
              "\n",
              "<div id=\"df-46e40297-7269-44d1-a941-15e40462406c\">\n",
              "  <button class=\"colab-df-quickchart\" onclick=\"quickchart('df-46e40297-7269-44d1-a941-15e40462406c')\"\n",
              "            title=\"Suggest charts\"\n",
              "            style=\"display:none;\">\n",
              "\n",
              "<svg xmlns=\"http://www.w3.org/2000/svg\" height=\"24px\"viewBox=\"0 0 24 24\"\n",
              "     width=\"24px\">\n",
              "    <g>\n",
              "        <path d=\"M19 3H5c-1.1 0-2 .9-2 2v14c0 1.1.9 2 2 2h14c1.1 0 2-.9 2-2V5c0-1.1-.9-2-2-2zM9 17H7v-7h2v7zm4 0h-2V7h2v10zm4 0h-2v-4h2v4z\"/>\n",
              "    </g>\n",
              "</svg>\n",
              "  </button>\n",
              "\n",
              "<style>\n",
              "  .colab-df-quickchart {\n",
              "      --bg-color: #E8F0FE;\n",
              "      --fill-color: #1967D2;\n",
              "      --hover-bg-color: #E2EBFA;\n",
              "      --hover-fill-color: #174EA6;\n",
              "      --disabled-fill-color: #AAA;\n",
              "      --disabled-bg-color: #DDD;\n",
              "  }\n",
              "\n",
              "  [theme=dark] .colab-df-quickchart {\n",
              "      --bg-color: #3B4455;\n",
              "      --fill-color: #D2E3FC;\n",
              "      --hover-bg-color: #434B5C;\n",
              "      --hover-fill-color: #FFFFFF;\n",
              "      --disabled-bg-color: #3B4455;\n",
              "      --disabled-fill-color: #666;\n",
              "  }\n",
              "\n",
              "  .colab-df-quickchart {\n",
              "    background-color: var(--bg-color);\n",
              "    border: none;\n",
              "    border-radius: 50%;\n",
              "    cursor: pointer;\n",
              "    display: none;\n",
              "    fill: var(--fill-color);\n",
              "    height: 32px;\n",
              "    padding: 0;\n",
              "    width: 32px;\n",
              "  }\n",
              "\n",
              "  .colab-df-quickchart:hover {\n",
              "    background-color: var(--hover-bg-color);\n",
              "    box-shadow: 0 1px 2px rgba(60, 64, 67, 0.3), 0 1px 3px 1px rgba(60, 64, 67, 0.15);\n",
              "    fill: var(--button-hover-fill-color);\n",
              "  }\n",
              "\n",
              "  .colab-df-quickchart-complete:disabled,\n",
              "  .colab-df-quickchart-complete:disabled:hover {\n",
              "    background-color: var(--disabled-bg-color);\n",
              "    fill: var(--disabled-fill-color);\n",
              "    box-shadow: none;\n",
              "  }\n",
              "\n",
              "  .colab-df-spinner {\n",
              "    border: 2px solid var(--fill-color);\n",
              "    border-color: transparent;\n",
              "    border-bottom-color: var(--fill-color);\n",
              "    animation:\n",
              "      spin 1s steps(1) infinite;\n",
              "  }\n",
              "\n",
              "  @keyframes spin {\n",
              "    0% {\n",
              "      border-color: transparent;\n",
              "      border-bottom-color: var(--fill-color);\n",
              "      border-left-color: var(--fill-color);\n",
              "    }\n",
              "    20% {\n",
              "      border-color: transparent;\n",
              "      border-left-color: var(--fill-color);\n",
              "      border-top-color: var(--fill-color);\n",
              "    }\n",
              "    30% {\n",
              "      border-color: transparent;\n",
              "      border-left-color: var(--fill-color);\n",
              "      border-top-color: var(--fill-color);\n",
              "      border-right-color: var(--fill-color);\n",
              "    }\n",
              "    40% {\n",
              "      border-color: transparent;\n",
              "      border-right-color: var(--fill-color);\n",
              "      border-top-color: var(--fill-color);\n",
              "    }\n",
              "    60% {\n",
              "      border-color: transparent;\n",
              "      border-right-color: var(--fill-color);\n",
              "    }\n",
              "    80% {\n",
              "      border-color: transparent;\n",
              "      border-right-color: var(--fill-color);\n",
              "      border-bottom-color: var(--fill-color);\n",
              "    }\n",
              "    90% {\n",
              "      border-color: transparent;\n",
              "      border-bottom-color: var(--fill-color);\n",
              "    }\n",
              "  }\n",
              "</style>\n",
              "\n",
              "  <script>\n",
              "    async function quickchart(key) {\n",
              "      const quickchartButtonEl =\n",
              "        document.querySelector('#' + key + ' button');\n",
              "      quickchartButtonEl.disabled = true;  // To prevent multiple clicks.\n",
              "      quickchartButtonEl.classList.add('colab-df-spinner');\n",
              "      try {\n",
              "        const charts = await google.colab.kernel.invokeFunction(\n",
              "            'suggestCharts', [key], {});\n",
              "      } catch (error) {\n",
              "        console.error('Error during call to suggestCharts:', error);\n",
              "      }\n",
              "      quickchartButtonEl.classList.remove('colab-df-spinner');\n",
              "      quickchartButtonEl.classList.add('colab-df-quickchart-complete');\n",
              "    }\n",
              "    (() => {\n",
              "      let quickchartButtonEl =\n",
              "        document.querySelector('#df-46e40297-7269-44d1-a941-15e40462406c button');\n",
              "      quickchartButtonEl.style.display =\n",
              "        google.colab.kernel.accessAllowed ? 'block' : 'none';\n",
              "    })();\n",
              "  </script>\n",
              "</div>\n",
              "    </div>\n",
              "  </div>\n"
            ],
            "application/vnd.google.colaboratory.intrinsic+json": {
              "type": "dataframe",
              "variable_name": "df_test_results",
              "summary": "{\n  \"name\": \"df_test_results\",\n  \"rows\": 18,\n  \"fields\": [\n    {\n      \"column\": \"True\",\n      \"properties\": {\n        \"dtype\": \"category\",\n        \"num_unique_values\": 3,\n        \"samples\": [\n          \"dry\",\n          \"normal\",\n          \"oily\"\n        ],\n        \"semantic_type\": \"\",\n        \"description\": \"\"\n      }\n    },\n    {\n      \"column\": \"Model Prediction\",\n      \"properties\": {\n        \"dtype\": \"category\",\n        \"num_unique_values\": 3,\n        \"samples\": [\n          \"oily\",\n          \"dry\",\n          \"normal\"\n        ],\n        \"semantic_type\": \"\",\n        \"description\": \"\"\n      }\n    }\n  ]\n}"
            }
          },
          "metadata": {},
          "execution_count": 34
        }
      ]
    },
    {
      "cell_type": "code",
      "source": [
        "from sklearn.metrics import accuracy_score, precision_score, recall_score, f1_score\n",
        "\n",
        "# Check the accuracy score on the test set\n",
        "print('Accuracy:', accuracy_score(true_labels, prediction_labels))\n",
        "\n",
        "# Check the precision score on the test set\n",
        "print('Precision:', precision_score(true_labels, prediction_labels, average='weighted'))\n",
        "\n",
        "# Check the recall score on the test set\n",
        "print('Recall:', recall_score(true_labels, prediction_labels, average='weighted'))\n",
        "\n",
        "# Check the f1 score on the test set\n",
        "print('F1:', f1_score(true_labels, prediction_labels, average='weighted'))"
      ],
      "metadata": {
        "id": "8nhl-b2q4Twh",
        "colab": {
          "base_uri": "https://localhost:8080/"
        },
        "outputId": "7df8be7c-122f-4636-a490-b4a836f7a2c9"
      },
      "execution_count": 35,
      "outputs": [
        {
          "output_type": "stream",
          "name": "stdout",
          "text": [
            "Accuracy: 0.3888888888888889\n",
            "Precision: 0.5222222222222223\n",
            "Recall: 0.3888888888888889\n",
            "F1: 0.3888888888888889\n"
          ]
        }
      ]
    },
    {
      "cell_type": "code",
      "source": [
        "from sklearn.metrics import confusion_matrix\n",
        "\n",
        "# Create a confusion matrix\n",
        "confusion_mat = confusion_matrix(true_labels, prediction_labels)\n",
        "\n",
        "# Get the TP, TN, FP, FN values from the confusion matrix\n",
        "TP = confusion_mat[1, 1]\n",
        "TN = confusion_mat[0, 0]\n",
        "FP = confusion_mat[0, 1]\n",
        "FN = confusion_mat[1, 0]\n",
        "\n",
        "# Displays TP, TN, FP, FN values\n",
        "print(\"True Positive (TP):\", TP)\n",
        "print(\"True Negative (TN):\", TN)\n",
        "print(\"False Positive (FP):\", FP)\n",
        "print(\"False Negative (FN):\", FN)"
      ],
      "metadata": {
        "id": "2U5b1olT4pPN",
        "colab": {
          "base_uri": "https://localhost:8080/"
        },
        "outputId": "3f6978c0-0eed-45a3-d2aa-9c9c03caf3d6"
      },
      "execution_count": 36,
      "outputs": [
        {
          "output_type": "stream",
          "name": "stdout",
          "text": [
            "True Positive (TP): 2\n",
            "True Negative (TN): 1\n",
            "False Positive (FP): 0\n",
            "False Negative (FN): 3\n"
          ]
        }
      ]
    },
    {
      "cell_type": "markdown",
      "source": [
        "#Load Model"
      ],
      "metadata": {
        "id": "aGZqqeFr4uAL"
      }
    },
    {
      "cell_type": "code",
      "source": [
        "import os\n",
        "from tensorflow.keras.models import load_model\n",
        "\n",
        "# H5 format\n",
        "model.save('/tmp')"
      ],
      "metadata": {
        "id": "2THuVlTC4vZP"
      },
      "execution_count": 37,
      "outputs": []
    },
    {
      "cell_type": "code",
      "source": [
        "# TFLite format\n",
        "converter = tf.lite.TFLiteConverter.from_saved_model('/tmp')\n",
        "converter.optimizations=[tf.lite.Optimize.DEFAULT]\n",
        "tflite_model = converter.convert();\n",
        "\n",
        "import pathlib\n",
        "\n",
        "tflite_model_file = pathlib.Path('/tmp/skin_type1.tflite')\n",
        "tflite_model_file.write_bytes(tflite_model)"
      ],
      "metadata": {
        "id": "v57UvhQ847QV",
        "colab": {
          "base_uri": "https://localhost:8080/"
        },
        "outputId": "c7368cbb-ecc4-4f15-86e5-e00f1e7ae0bc"
      },
      "execution_count": 38,
      "outputs": [
        {
          "output_type": "execute_result",
          "data": {
            "text/plain": [
              "3577808"
            ]
          },
          "metadata": {},
          "execution_count": 38
        }
      ]
    }
  ]
}